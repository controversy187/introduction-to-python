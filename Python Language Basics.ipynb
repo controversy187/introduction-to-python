{
 "cells": [
  {
   "cell_type": "code",
   "execution_count": 1,
   "id": "d8b3b190-64b6-4e19-af4d-b8a5fd7d071b",
   "metadata": {},
   "outputs": [
    {
     "name": "stdout",
     "output_type": "stream",
     "text": [
      "False\n",
      "True\n",
      "False\n"
     ]
    }
   ],
   "source": [
    "is_game_over = False\n",
    "print(is_game_over)\n",
    "is_game_over = True\n",
    "print(is_game_over)\n",
    "is_game_over = 5 > 6\n",
    "print(is_game_over)"
   ]
  },
  {
   "cell_type": "code",
   "execution_count": 3,
   "id": "66feb228-a5ef-4a09-a93c-0bad05147d4b",
   "metadata": {},
   "outputs": [
    {
     "name": "stdout",
     "output_type": "stream",
     "text": [
      "5\n",
      "0.5\n"
     ]
    }
   ],
   "source": [
    "num_lives = 5\n",
    "print(num_lives)\n",
    "percent_health = 0.5\n",
    "print(percent_health)"
   ]
  },
  {
   "cell_type": "code",
   "execution_count": 5,
   "id": "3056c7ba-86d7-4afd-8216-3511a5716ac7",
   "metadata": {},
   "outputs": [
    {
     "name": "stdout",
     "output_type": "stream",
     "text": [
      "Brett\n",
      "Titan\n"
     ]
    }
   ],
   "source": [
    "player_name = \"Brett\"\n",
    "print(player_name)\n",
    "player_name = 'Titan'\n",
    "print(player_name)"
   ]
  },
  {
   "cell_type": "code",
   "execution_count": 7,
   "id": "f825a6da-4c69-4df3-8695-4436f3e81fe3",
   "metadata": {},
   "outputs": [
    {
     "name": "stdout",
     "output_type": "stream",
     "text": [
      "<class 'bool'>\n",
      "<class 'int'>\n",
      "<class 'float'>\n",
      "<class 'str'>\n",
      "<class 'str'>\n"
     ]
    }
   ],
   "source": [
    "print(type(is_game_over))\n",
    "print(type(num_lives))\n",
    "print(type(percent_health))\n",
    "print(type(player_name))\n",
    "\n",
    "num_lives = \"5\"\n",
    "print(type(num_lives))"
   ]
  },
  {
   "cell_type": "code",
   "execution_count": null,
   "id": "632a5ae5-7a89-42dd-b77c-51b1e7fd3933",
   "metadata": {},
   "outputs": [],
   "source": []
  }
 ],
 "metadata": {
  "kernelspec": {
   "display_name": "Python 3 (ipykernel)",
   "language": "python",
   "name": "python3"
  },
  "language_info": {
   "codemirror_mode": {
    "name": "ipython",
    "version": 3
   },
   "file_extension": ".py",
   "mimetype": "text/x-python",
   "name": "python",
   "nbconvert_exporter": "python",
   "pygments_lexer": "ipython3",
   "version": "3.11.3"
  }
 },
 "nbformat": 4,
 "nbformat_minor": 5
}
