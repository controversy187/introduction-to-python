{
 "cells": [
  {
   "cell_type": "code",
   "execution_count": null,
   "id": "a5f0f07f-2b1b-4811-a112-cfb02c80e961",
   "metadata": {},
   "outputs": [],
   "source": []
  },
  {
   "cell_type": "code",
   "execution_count": null,
   "id": "d8b3b190-64b6-4e19-af4d-b8a5fd7d071b",
   "metadata": {},
   "outputs": [],
   "source": [
    "is_game_over = False\n",
    "print(is_game_over)\n",
    "is_game_over = True\n",
    "print(is_game_over)\n",
    "is_game_over = 5 > 6\n",
    "print(is_game_over)"
   ]
  },
  {
   "cell_type": "code",
   "execution_count": null,
   "id": "66feb228-a5ef-4a09-a93c-0bad05147d4b",
   "metadata": {},
   "outputs": [],
   "source": [
    "num_lives = 5\n",
    "print(num_lives)\n",
    "percent_health = 0.5\n",
    "print(percent_health)"
   ]
  },
  {
   "cell_type": "code",
   "execution_count": null,
   "id": "3056c7ba-86d7-4afd-8216-3511a5716ac7",
   "metadata": {},
   "outputs": [],
   "source": [
    "player_name = \"Brett\"\n",
    "print(player_name)\n",
    "player_name = 'Titan'\n",
    "print(player_name)"
   ]
  },
  {
   "cell_type": "code",
   "execution_count": null,
   "id": "f825a6da-4c69-4df3-8695-4436f3e81fe3",
   "metadata": {},
   "outputs": [],
   "source": [
    "print(type(is_game_over))\n",
    "print(type(num_lives))\n",
    "print(type(percent_health))\n",
    "print(type(player_name))\n",
    "\n",
    "num_lives = \"5\"\n",
    "print(type(num_lives))"
   ]
  },
  {
   "cell_type": "code",
   "execution_count": null,
   "id": "632a5ae5-7a89-42dd-b77c-51b1e7fd3933",
   "metadata": {},
   "outputs": [],
   "source": [
    "num_lives = 5\n",
    "# num_lives = \"5\"\n",
    "str_num_lives = str(num_lives)\n",
    "print(type(num_lives))\n",
    "print(type(str_num_lives))"
   ]
  },
  {
   "cell_type": "code",
   "execution_count": null,
   "id": "13890926-7415-44a1-971b-51aed0df4017",
   "metadata": {},
   "outputs": [],
   "source": [
    "print(bool(0))\n",
    "print(bool(0.1))\n",
    "print(bool(\"string example\"))\n",
    "print(bool(\"False\"))"
   ]
  },
  {
   "cell_type": "code",
   "execution_count": null,
   "id": "d7a6d526-1833-46a2-83c8-09ca89f8cd8c",
   "metadata": {},
   "outputs": [],
   "source": [
    "# print(int(\"example\"))\n",
    "print(int(\"1\"))\n",
    "print(int(0.5))\n",
    "print(int(False))\n",
    "print(int(True))\n",
    "\n"
   ]
  },
  {
   "cell_type": "code",
   "execution_count": null,
   "id": "65377d36-e7da-4e6a-96c9-a56925077870",
   "metadata": {},
   "outputs": [],
   "source": [
    "print(float(\"1\"))\n",
    "print(float(5))\n",
    "print(float(False))\n",
    "print(float(True))\n"
   ]
  },
  {
   "cell_type": "code",
   "execution_count": null,
   "id": "56421db9-325a-43a1-925d-55c8cca3ba46",
   "metadata": {},
   "outputs": [],
   "source": [
    "health = 50\n",
    "new_health = health + 20\n",
    "print(health)\n",
    "health = health + 20\n",
    "print(health)\n",
    "\n",
    "xPos = 5\n",
    "print(xPos % 2)\n",
    "print(xPos // 2)\n",
    "print(xPos ** 2)\n",
    "print(xPos)\n",
    "\n",
    "first_name = \"Brett\"\n",
    "last_name = \"Fitzgerald\"\n",
    "print(first_name + \" \" + last_name)"
   ]
  },
  {
   "cell_type": "code",
   "execution_count": null,
   "id": "28467027-ac7d-48d7-a6b9-7071fc5aff67",
   "metadata": {},
   "outputs": [],
   "source": [
    "health = 50\n",
    "health += 20\n",
    "health -= 50\n",
    "print(health)\n",
    "\n",
    "name = \"Brett\"\n",
    "name += \" Fitzgerald\"\n",
    "print(name)"
   ]
  },
  {
   "cell_type": "code",
   "execution_count": null,
   "id": "6d5de5e8-6424-4101-9a0b-9a4abc3f2c4c",
   "metadata": {},
   "outputs": [],
   "source": [
    "# > >= < <= == !=\n",
    "result = 5 > 2\n",
    "print(result)\n",
    "print(type(result))\n",
    "\n",
    "print(5 == 2)\n",
    "print(5 != health)\n",
    "print(5.0 == 5)"
   ]
  },
  {
   "cell_type": "code",
   "execution_count": null,
   "id": "ab860a0c-90d5-426e-8fd7-5b111f735ea2",
   "metadata": {},
   "outputs": [],
   "source": [
    "a = \"a\"\n",
    "a_ = \"A\"\n",
    "print(True == False)\n",
    "print(first_name == last_name)\n",
    "print(a == a_)\n",
    "b = \"1\"\n",
    "print(a > b)\n",
    "print(1 > True)\n",
    "print(b == False)\n",
    "# print(b > 5)"
   ]
  },
  {
   "cell_type": "code",
   "execution_count": null,
   "id": "7beadd66-881d-4db5-9732-ff59dc6dd9f4",
   "metadata": {},
   "outputs": [],
   "source": [
    "# and, or, not\n",
    "is_game_over = False\n",
    "is_game_over = not is_game_over\n",
    "print(is_game_over)\n",
    "\n",
    "health = 0\n",
    "lives = 1\n",
    "print(health <= 0 and lives <= 0)\n",
    "print(health <= 0 or lives <= 0)"
   ]
  },
  {
   "cell_type": "code",
   "execution_count": null,
   "id": "b3233e9e-3f11-4482-ad0c-012df195c8b5",
   "metadata": {},
   "outputs": [],
   "source": [
    "inventory = ['Sword', 'Bread', 'Boots']\n",
    "sword = inventory[0]\n",
    "print(sword)\n",
    "inventory[1] = 'Apples'\n",
    "print(inventory)"
   ]
  },
  {
   "cell_type": "code",
   "execution_count": null,
   "id": "bb0b4c86-1235-4319-b506-b491c0935061",
   "metadata": {},
   "outputs": [],
   "source": [
    "inventory = ['Sword', 'Bread', 'Boots']\n",
    "print(len(inventory))\n",
    "print(max(inventory))\n",
    "print(min(inventory))\n",
    "\n",
    "inventory.append('Hat')\n",
    "print(inventory)\n",
    "inventory.insert(0,'Knife')\n",
    "print(inventory)\n",
    "inventory.pop()\n",
    "print(inventory)\n",
    "inventory.remove('Sword')\n",
    "print(inventory)\n",
    "inventory.clear()\n",
    "print(inventory)"
   ]
  },
  {
   "cell_type": "code",
   "execution_count": null,
   "id": "360a0deb-c5c2-49fc-8b06-194bc7322ba2",
   "metadata": {},
   "outputs": [],
   "source": [
    "universe = [[1, 2, 3],\n",
    "            [1, 2, 3, 4],\n",
    "            [1, 2],\n",
    "            [1, 2, 3]]\n",
    "ninth_world = universe[2][1]\n",
    "ninth_world = 5\n",
    "print(ninth_world)\n",
    "universe.append([1,2,3,4,5])\n",
    "universe[1].pop()\n",
    "print(universe)"
   ]
  },
  {
   "cell_type": "code",
   "execution_count": null,
   "id": "999bf075-8ba4-448f-b9db-9314525aa363",
   "metadata": {
    "execution": {
     "iopub.execute_input": "2023-07-17T19:45:27.091036Z",
     "iopub.status.busy": "2023-07-17T19:45:27.091036Z",
     "iopub.status.idle": "2023-07-17T19:45:27.097961Z",
     "shell.execute_reply": "2023-07-17T19:45:27.096961Z",
     "shell.execute_reply.started": "2023-07-17T19:45:27.091036Z"
    }
   },
   "outputs": [],
   "source": [
    "item = (\"Health Kit\", 4)\n",
    "name = item[0]\n",
    "print(name)\n",
    "# item[1] = 10\n",
    "item = (\"Knife\", 1)\n",
    "print(item)\n",
    "\n",
    "print(item.count('Knife'))\n",
    "print(item.index(1))\n",
    "\n",
    "item = (1, 2, 3)\n",
    "\n",
    "print(len(item))\n",
    "print(max(item))\n",
    "print(min(item))"
   ]
  },
  {
   "cell_type": "code",
   "execution_count": null,
   "id": "90cd172e-bd9f-443e-980f-97ad5c0d87b3",
   "metadata": {
    "execution": {
     "iopub.execute_input": "2023-07-17T19:51:45.517299Z",
     "iopub.status.busy": "2023-07-17T19:51:45.516299Z",
     "iopub.status.idle": "2023-07-17T19:51:45.526301Z",
     "shell.execute_reply": "2023-07-17T19:51:45.524296Z",
     "shell.execute_reply.started": "2023-07-17T19:51:45.517299Z"
    }
   },
   "outputs": [],
   "source": [
    "inventory = { 'Knife': 1, 'Health Kit': 3, 'Wood': 5 }\n",
    "print(inventory['Health Kit'])\n",
    "inventory['Knife'] = 2\n",
    "print(inventory)\n",
    "inventory['Gold'] = 50\n",
    "print(inventory)"
   ]
  },
  {
   "cell_type": "code",
   "execution_count": null,
   "id": "e7f45c39-25f0-4c37-a022-415b6c4713b2",
   "metadata": {
    "execution": {
     "iopub.execute_input": "2023-07-17T19:58:26.005467Z",
     "iopub.status.busy": "2023-07-17T19:58:26.003452Z",
     "iopub.status.idle": "2023-07-17T19:58:26.015784Z",
     "shell.execute_reply": "2023-07-17T19:58:26.014638Z",
     "shell.execute_reply.started": "2023-07-17T19:58:26.005467Z"
    }
   },
   "outputs": [],
   "source": [
    "inventory = { 'Knife': 1, 'Health Kit': 3, 'Wood': 5 }\n",
    "# print(inventory['Gold'])\n",
    "print(inventory.get('Gold'))\n",
    "print(inventory.keys())\n",
    "print(inventory.values())\n",
    "\n",
    "print(inventory.pop('Knife'))\n",
    "print(inventory)\n",
    "\n",
    "inventory['Apple'] = 10\n",
    "print(len(inventory))\n",
    "print(min(inventory))\n",
    "print(max(inventory))\n"
   ]
  },
  {
   "cell_type": "code",
   "execution_count": null,
   "id": "b0ccab90-3424-4ab7-bbb6-fc46d6a5fefe",
   "metadata": {
    "execution": {
     "iopub.execute_input": "2023-07-17T20:07:25.253998Z",
     "iopub.status.busy": "2023-07-17T20:07:25.252997Z",
     "iopub.status.idle": "2023-07-17T20:07:25.262174Z",
     "shell.execute_reply": "2023-07-17T20:07:25.261176Z",
     "shell.execute_reply.started": "2023-07-17T20:07:25.253998Z"
    }
   },
   "outputs": [],
   "source": [
    "first_ten = range(10)\n",
    "print(first_ten[0])\n",
    "print(first_ten[9])\n",
    "\n",
    "first_ten = range(1,11)\n",
    "print(first_ten[0])\n",
    "print(first_ten[9])\n",
    "\n",
    "print(list(range(1, 11, 2)))\n",
    "\n",
    "reversed_ten = reversed(first_ten)\n",
    "reversed_ten = list(reversed_ten)\n",
    "print(reversed_ten)\n",
    "\n",
    "print(15 not in first_ten)"
   ]
  },
  {
   "cell_type": "code",
   "execution_count": null,
   "id": "a96609dc-b3cc-4cdf-8b4b-0963b50e9f55",
   "metadata": {
    "execution": {
     "iopub.execute_input": "2023-07-18T17:19:34.759287Z",
     "iopub.status.busy": "2023-07-18T17:19:34.759287Z",
     "iopub.status.idle": "2023-07-18T17:19:34.767919Z",
     "shell.execute_reply": "2023-07-18T17:19:34.766923Z",
     "shell.execute_reply.started": "2023-07-18T17:19:34.759287Z"
    }
   },
   "outputs": [],
   "source": [
    "key_press = 'awl'\n",
    "if key_press == 'r':\n",
    "    print('Move right')\n",
    "elif key_press == 'l':\n",
    "    print('Move left')\n",
    "else:\n",
    "    print('Invalid key')\n",
    "\n",
    "command = 'Move Right' if key_press == 'r' else 'Invalid Key'"
   ]
  },
  {
   "cell_type": "code",
   "execution_count": null,
   "id": "efb43b6b-8b5b-456d-a04a-002e1858fbe7",
   "metadata": {
    "execution": {
     "iopub.execute_input": "2023-07-18T17:39:08.942869Z",
     "iopub.status.busy": "2023-07-18T17:39:08.941637Z",
     "iopub.status.idle": "2023-07-18T17:39:08.952613Z",
     "shell.execute_reply": "2023-07-18T17:39:08.952613Z",
     "shell.execute_reply.started": "2023-07-18T17:39:08.942869Z"
    }
   },
   "outputs": [],
   "source": [
    "num_lives = 3\n",
    "num_health_kits = 3\n",
    "health = 0\n",
    "\n",
    "if health <= 0 and num_health_kits <= 0 :\n",
    "    num_lives -= 1\n",
    "    print('You lose a life!')\n",
    "    if num_lives <= 0:\n",
    "        print('You Died!')\n",
    "elif health <= 10:\n",
    "    print('Warning, less than 10% health!')\n",
    "elif health <= 50:\n",
    "    print('Warning, less than 50% health!')"
   ]
  },
  {
   "cell_type": "code",
   "execution_count": null,
   "id": "d689e58b-3739-4c67-ba6e-fa3c2701abbd",
   "metadata": {
    "execution": {
     "iopub.execute_input": "2023-07-18T18:00:05.156948Z",
     "iopub.status.busy": "2023-07-18T18:00:05.156490Z",
     "iopub.status.idle": "2023-07-18T18:00:05.163174Z",
     "shell.execute_reply": "2023-07-18T18:00:05.163174Z",
     "shell.execute_reply.started": "2023-07-18T18:00:05.156948Z"
    }
   },
   "outputs": [],
   "source": [
    "x_pos = 0\n",
    "y_pos = 1\n",
    "end_pos = 5\n",
    "enemy_pos = 3\n",
    "\n",
    "while x_pos < end_pos:\n",
    "    x_pos += 1\n",
    "    print(x_pos)\n",
    "    if y_pos > 0:\n",
    "        continue\n",
    "    if x_pos == enemy_pos:\n",
    "        print(\"You collided with the enemy\")\n",
    "        break\n",
    "print(\"Game Over\")"
   ]
  },
  {
   "cell_type": "code",
   "execution_count": null,
   "id": "f710c6d7-235f-4773-b776-97ffd46ed715",
   "metadata": {
    "execution": {
     "iopub.execute_input": "2023-07-18T18:13:25.229666Z",
     "iopub.status.busy": "2023-07-18T18:13:25.229666Z",
     "iopub.status.idle": "2023-07-18T18:13:25.235665Z",
     "shell.execute_reply": "2023-07-18T18:13:25.235665Z",
     "shell.execute_reply.started": "2023-07-18T18:13:25.229666Z"
    }
   },
   "outputs": [],
   "source": [
    "our_range = range(1,6)\n",
    "\n",
    "for i in our_range:\n",
    "    print(i)\n",
    "\n",
    "inventory = ['Boots', 'Arrows', 'Bow', 'Sword']\n",
    "for item in inventory:\n",
    "    print(item)\n",
    "\n",
    "# for i in range(4):\n",
    "#     print(inventory[i])\n",
    "#     if i == 1:\n",
    "#         break\n",
    "\n",
    "# i = 0\n",
    "# while i < len(inventory):\n",
    "#     print(inventory[i])\n",
    "#     i += 1"
   ]
  },
  {
   "cell_type": "code",
   "execution_count": null,
   "id": "1bf765cc-049b-4a22-9c16-9aa9541886af",
   "metadata": {
    "execution": {
     "iopub.execute_input": "2023-07-18T18:39:31.746694Z",
     "iopub.status.busy": "2023-07-18T18:39:31.745692Z",
     "iopub.status.idle": "2023-07-18T18:39:31.752270Z",
     "shell.execute_reply": "2023-07-18T18:39:31.752270Z",
     "shell.execute_reply.started": "2023-07-18T18:39:31.746694Z"
    }
   },
   "outputs": [],
   "source": [
    "x_pos = 0\n",
    "\n",
    "def move():\n",
    "    global x_pos\n",
    "    x_pos += 1\n",
    "\n",
    "move()\n",
    "move()\n",
    "move()\n",
    "move()\n",
    "print(x_pos)"
   ]
  },
  {
   "cell_type": "code",
   "execution_count": null,
   "id": "d00705e9-00c6-4f3b-bda1-38c17d5d846e",
   "metadata": {
    "execution": {
     "iopub.execute_input": "2023-07-18T18:46:48.387065Z",
     "iopub.status.busy": "2023-07-18T18:46:48.385714Z",
     "iopub.status.idle": "2023-07-18T18:46:48.395007Z",
     "shell.execute_reply": "2023-07-18T18:46:48.393496Z",
     "shell.execute_reply.started": "2023-07-18T18:46:48.387065Z"
    }
   },
   "outputs": [],
   "source": [
    "x_pos = 0\n",
    "\n",
    "def move(by_amount=1):\n",
    "    global x_pos\n",
    "    x_pos +=  by_amount\n",
    "\n",
    "move(5)\n",
    "print(x_pos)"
   ]
  },
  {
   "cell_type": "code",
   "execution_count": null,
   "id": "f7819036-02c0-485b-a69e-096c6ff2277c",
   "metadata": {
    "execution": {
     "iopub.execute_input": "2023-07-18T18:54:28.492804Z",
     "iopub.status.busy": "2023-07-18T18:54:28.492804Z",
     "iopub.status.idle": "2023-07-18T18:54:28.497579Z",
     "shell.execute_reply": "2023-07-18T18:54:28.497579Z",
     "shell.execute_reply.started": "2023-07-18T18:54:28.492804Z"
    }
   },
   "outputs": [],
   "source": [
    "start_pos = 0\n",
    "end_pos = 10\n",
    "x_pos = 0\n",
    "\n",
    "def move(x_pos, by_amount=1):\n",
    "    global start_pos, end_pos\n",
    "    x_pos +=  by_amount\n",
    "    if x_pos < start_pos:\n",
    "        return start_pos\n",
    "    elif x_pos > end_pos:\n",
    "        return end_pos\n",
    "    return x_pos\n",
    "\n",
    "x_pos = move(x_pos, -15)\n",
    "print(x_pos)\n"
   ]
  },
  {
   "cell_type": "code",
   "execution_count": null,
   "id": "297bef28-d0ac-4a7e-bfe8-b7211f41510b",
   "metadata": {
    "execution": {
     "iopub.execute_input": "2023-07-19T18:05:11.172180Z",
     "iopub.status.busy": "2023-07-19T18:05:11.171168Z",
     "iopub.status.idle": "2023-07-19T18:05:11.183095Z",
     "shell.execute_reply": "2023-07-19T18:05:11.181050Z",
     "shell.execute_reply.started": "2023-07-19T18:05:11.172180Z"
    }
   },
   "outputs": [],
   "source": [
    "class GameCharacter:\n",
    "    \n",
    "    speed = 1.0\n",
    "    \n",
    "    def __init__(self, name, x_pos, health):\n",
    "        self.name = name\n",
    "        self.x_pos = x_pos\n",
    "        self.health = health\n",
    "\n",
    "    def move(self, by_amount):\n",
    "        self.x_pos += by_amount\n",
    "\n",
    "    def take_damage(self, amount):\n",
    "        self.health -= amount\n",
    "        if self.health < 0:\n",
    "            self.health = 0\n",
    "            \n",
    "    def check_is_dead(self):\n",
    "        return self.health <= 0\n",
    "\n",
    "    def change_speed(to_speed):\n",
    "        GameCharacter.speed = to_speed"
   ]
  },
  {
   "cell_type": "code",
   "execution_count": null,
   "id": "fdee730b-ab05-4528-8b7f-d2ec823f5209",
   "metadata": {
    "execution": {
     "iopub.execute_input": "2023-07-19T14:08:24.187884Z",
     "iopub.status.busy": "2023-07-19T14:08:24.187385Z",
     "iopub.status.idle": "2023-07-19T14:08:24.195441Z",
     "shell.execute_reply": "2023-07-19T14:08:24.193928Z",
     "shell.execute_reply.started": "2023-07-19T14:08:24.187884Z"
    }
   },
   "outputs": [],
   "source": [
    "game_character = GameCharacter('Brett', 5, 100)\n",
    "other_character = GameCharacter('Other', 0, 50)\n",
    "# print(type(game_character))\n",
    "# print(game_character.name)\n",
    "# print(other_character.name)\n",
    "\n",
    "# game_character.name = \"Thomas\"\n",
    "# print(game_character.name)\n",
    "\n",
    "game_character.move(-2)\n",
    "print(game_character.x_pos)\n",
    "\n",
    "game_character.take_damage(200)\n",
    "print(game_character.health)\n",
    "print(game_character.check_is_dead())"
   ]
  },
  {
   "cell_type": "code",
   "execution_count": null,
   "id": "a2bd17e8-47fb-471b-94c0-65ee647be261",
   "metadata": {
    "execution": {
     "iopub.execute_input": "2023-07-19T17:59:24.528463Z",
     "iopub.status.busy": "2023-07-19T17:59:24.528463Z",
     "iopub.status.idle": "2023-07-19T17:59:24.532965Z",
     "shell.execute_reply": "2023-07-19T17:59:24.532965Z",
     "shell.execute_reply.started": "2023-07-19T17:59:24.528463Z"
    }
   },
   "outputs": [],
   "source": [
    "class PlayerCharacter(GameCharacter):\n",
    "    \n",
    "    def __init__(self, name, x_pos, health, num_lives):\n",
    "        super().__init__(name, x_pos, health)\n",
    "        self.max_health = health\n",
    "        self.num_lives = num_lives\n",
    "\n",
    "    def take_damage(self, amount):\n",
    "        self.health -= amount\n",
    "        if self.health <= 0:\n",
    "            self.num_lives -= 1\n",
    "            self.health = self.max_health\n",
    "            \n",
    "    def check_is_dead(self):\n",
    "        return self.health <= 0 and self.num_lives <= 0\n"
   ]
  },
  {
   "cell_type": "code",
   "execution_count": null,
   "id": "f0b654f6-6413-4da7-997a-c577c5294786",
   "metadata": {
    "execution": {
     "iopub.execute_input": "2023-07-19T16:58:16.408282Z",
     "iopub.status.busy": "2023-07-19T16:58:16.406210Z",
     "iopub.status.idle": "2023-07-19T16:58:16.419916Z",
     "shell.execute_reply": "2023-07-19T16:58:16.418920Z",
     "shell.execute_reply.started": "2023-07-19T16:58:16.408282Z"
    }
   },
   "outputs": [],
   "source": [
    "pc = PlayerCharacter('Brett', 0, 100, 3)\n",
    "gc = GameCharacter('Wolf', 5, 100)\n",
    "\n",
    "print(pc.max_health)\n",
    "# print(gc.max_health) # This is an error\n",
    "\n",
    "pc.move(2)\n",
    "gc.move(2)\n",
    "print(pc.x_pos)\n",
    "print(gc.x_pos)\n",
    "\n",
    "pc.take_damage(150)\n",
    "gc.take_damage(150)\n",
    "print(pc.health)\n",
    "print(gc.health)\n",
    "\n",
    "print(pc.check_is_dead())\n",
    "print(gc.check_is_dead())"
   ]
  },
  {
   "cell_type": "code",
   "execution_count": null,
   "id": "8c8dff64-ee2e-43a5-bd06-99b541b8cb83",
   "metadata": {
    "execution": {
     "iopub.execute_input": "2023-07-19T18:08:03.215338Z",
     "iopub.status.busy": "2023-07-19T18:08:03.215338Z",
     "iopub.status.idle": "2023-07-19T18:08:03.226705Z",
     "shell.execute_reply": "2023-07-19T18:08:03.225487Z",
     "shell.execute_reply.started": "2023-07-19T18:08:03.215338Z"
    }
   },
   "outputs": [],
   "source": [
    "gc_1 = GameCharacter('Wolf', 0, 100)\n",
    "gc_2 = GameCharacter('Lion', 2, 150)\n",
    "\n",
    "print(gc_1.speed)\n",
    "print(gc_2.speed)\n",
    "\n",
    "print(GameCharacter.speed)\n",
    "# GameCharacter.speed = 2.0\n",
    "GameCharacter.change_speed(3.0)\n",
    "print(gc_1.speed)\n",
    "print(gc_2.speed)\n",
    "gc_2.speed = 10\n",
    "print(gc_2.speed)\n",
    "GameCharacter.change_speed(4.0)\n",
    "print(gc_2.speed)"
   ]
  }
 ],
 "metadata": {
  "kernelspec": {
   "display_name": "Python 3 (ipykernel)",
   "language": "python",
   "name": "python3"
  },
  "language_info": {
   "codemirror_mode": {
    "name": "ipython",
    "version": 3
   },
   "file_extension": ".py",
   "mimetype": "text/x-python",
   "name": "python",
   "nbconvert_exporter": "python",
   "pygments_lexer": "ipython3",
   "version": "3.11.3"
  }
 },
 "nbformat": 4,
 "nbformat_minor": 5
}
