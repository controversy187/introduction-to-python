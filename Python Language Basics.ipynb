{
 "cells": [
  {
   "cell_type": "code",
   "execution_count": null,
   "id": "a5f0f07f-2b1b-4811-a112-cfb02c80e961",
   "metadata": {},
   "outputs": [],
   "source": []
  },
  {
   "cell_type": "code",
   "execution_count": null,
   "id": "d8b3b190-64b6-4e19-af4d-b8a5fd7d071b",
   "metadata": {},
   "outputs": [],
   "source": [
    "is_game_over = False\n",
    "print(is_game_over)\n",
    "is_game_over = True\n",
    "print(is_game_over)\n",
    "is_game_over = 5 > 6\n",
    "print(is_game_over)"
   ]
  },
  {
   "cell_type": "code",
   "execution_count": null,
   "id": "66feb228-a5ef-4a09-a93c-0bad05147d4b",
   "metadata": {},
   "outputs": [],
   "source": [
    "num_lives = 5\n",
    "print(num_lives)\n",
    "percent_health = 0.5\n",
    "print(percent_health)"
   ]
  },
  {
   "cell_type": "code",
   "execution_count": null,
   "id": "3056c7ba-86d7-4afd-8216-3511a5716ac7",
   "metadata": {},
   "outputs": [],
   "source": [
    "player_name = \"Brett\"\n",
    "print(player_name)\n",
    "player_name = 'Titan'\n",
    "print(player_name)"
   ]
  },
  {
   "cell_type": "code",
   "execution_count": null,
   "id": "f825a6da-4c69-4df3-8695-4436f3e81fe3",
   "metadata": {},
   "outputs": [],
   "source": [
    "print(type(is_game_over))\n",
    "print(type(num_lives))\n",
    "print(type(percent_health))\n",
    "print(type(player_name))\n",
    "\n",
    "num_lives = \"5\"\n",
    "print(type(num_lives))"
   ]
  },
  {
   "cell_type": "code",
   "execution_count": null,
   "id": "632a5ae5-7a89-42dd-b77c-51b1e7fd3933",
   "metadata": {},
   "outputs": [],
   "source": [
    "num_lives = 5\n",
    "# num_lives = \"5\"\n",
    "str_num_lives = str(num_lives)\n",
    "print(type(num_lives))\n",
    "print(type(str_num_lives))"
   ]
  },
  {
   "cell_type": "code",
   "execution_count": null,
   "id": "13890926-7415-44a1-971b-51aed0df4017",
   "metadata": {},
   "outputs": [],
   "source": [
    "print(bool(0))\n",
    "print(bool(0.1))\n",
    "print(bool(\"string example\"))\n",
    "print(bool(\"False\"))"
   ]
  },
  {
   "cell_type": "code",
   "execution_count": null,
   "id": "d7a6d526-1833-46a2-83c8-09ca89f8cd8c",
   "metadata": {},
   "outputs": [],
   "source": [
    "# print(int(\"example\"))\n",
    "print(int(\"1\"))\n",
    "print(int(0.5))\n",
    "print(int(False))\n",
    "print(int(True))\n",
    "\n"
   ]
  },
  {
   "cell_type": "code",
   "execution_count": null,
   "id": "65377d36-e7da-4e6a-96c9-a56925077870",
   "metadata": {},
   "outputs": [],
   "source": [
    "print(float(\"1\"))\n",
    "print(float(5))\n",
    "print(float(False))\n",
    "print(float(True))\n"
   ]
  },
  {
   "cell_type": "code",
   "execution_count": null,
   "id": "56421db9-325a-43a1-925d-55c8cca3ba46",
   "metadata": {},
   "outputs": [],
   "source": [
    "health = 50\n",
    "new_health = health + 20\n",
    "print(health)\n",
    "health = health + 20\n",
    "print(health)\n",
    "\n",
    "xPos = 5\n",
    "print(xPos % 2)\n",
    "print(xPos // 2)\n",
    "print(xPos ** 2)\n",
    "print(xPos)\n",
    "\n",
    "first_name = \"Brett\"\n",
    "last_name = \"Fitzgerald\"\n",
    "print(first_name + \" \" + last_name)"
   ]
  },
  {
   "cell_type": "code",
   "execution_count": null,
   "id": "28467027-ac7d-48d7-a6b9-7071fc5aff67",
   "metadata": {},
   "outputs": [],
   "source": [
    "health = 50\n",
    "health += 20\n",
    "health -= 50\n",
    "print(health)\n",
    "\n",
    "name = \"Brett\"\n",
    "name += \" Fitzgerald\"\n",
    "print(name)"
   ]
  },
  {
   "cell_type": "code",
   "execution_count": null,
   "id": "6d5de5e8-6424-4101-9a0b-9a4abc3f2c4c",
   "metadata": {},
   "outputs": [],
   "source": [
    "# > >= < <= == !=\n",
    "result = 5 > 2\n",
    "print(result)\n",
    "print(type(result))\n",
    "\n",
    "print(5 == 2)\n",
    "print(5 != health)\n",
    "print(5.0 == 5)"
   ]
  },
  {
   "cell_type": "code",
   "execution_count": null,
   "id": "ab860a0c-90d5-426e-8fd7-5b111f735ea2",
   "metadata": {},
   "outputs": [],
   "source": [
    "a = \"a\"\n",
    "a_ = \"A\"\n",
    "print(True == False)\n",
    "print(first_name == last_name)\n",
    "print(a == a_)\n",
    "b = \"1\"\n",
    "print(a > b)\n",
    "print(1 > True)\n",
    "print(b == False)\n",
    "# print(b > 5)"
   ]
  },
  {
   "cell_type": "code",
   "execution_count": null,
   "id": "7beadd66-881d-4db5-9732-ff59dc6dd9f4",
   "metadata": {},
   "outputs": [],
   "source": [
    "# and, or, not\n",
    "is_game_over = False\n",
    "is_game_over = not is_game_over\n",
    "print(is_game_over)\n",
    "\n",
    "health = 0\n",
    "lives = 1\n",
    "print(health <= 0 and lives <= 0)\n",
    "print(health <= 0 or lives <= 0)"
   ]
  },
  {
   "cell_type": "code",
   "execution_count": null,
   "id": "b3233e9e-3f11-4482-ad0c-012df195c8b5",
   "metadata": {},
   "outputs": [],
   "source": [
    "inventory = ['Sword', 'Bread', 'Boots']\n",
    "sword = inventory[0]\n",
    "print(sword)\n",
    "inventory[1] = 'Apples'\n",
    "print(inventory)"
   ]
  },
  {
   "cell_type": "code",
   "execution_count": null,
   "id": "bb0b4c86-1235-4319-b506-b491c0935061",
   "metadata": {},
   "outputs": [],
   "source": [
    "inventory = ['Sword', 'Bread', 'Boots']\n",
    "print(len(inventory))\n",
    "print(max(inventory))\n",
    "print(min(inventory))\n",
    "\n",
    "inventory.append('Hat')\n",
    "print(inventory)\n",
    "inventory.insert(0,'Knife')\n",
    "print(inventory)\n",
    "inventory.pop()\n",
    "print(inventory)\n",
    "inventory.remove('Sword')\n",
    "print(inventory)\n",
    "inventory.clear()\n",
    "print(inventory)"
   ]
  },
  {
   "cell_type": "code",
   "execution_count": null,
   "id": "360a0deb-c5c2-49fc-8b06-194bc7322ba2",
   "metadata": {},
   "outputs": [],
   "source": [
    "universe = [[1, 2, 3],\n",
    "            [1, 2, 3, 4],\n",
    "            [1, 2],\n",
    "            [1, 2, 3]]\n",
    "ninth_world = universe[2][1]\n",
    "ninth_world = 5\n",
    "print(ninth_world)\n",
    "universe.append([1,2,3,4,5])\n",
    "universe[1].pop()\n",
    "print(universe)"
   ]
  },
  {
   "cell_type": "code",
   "execution_count": null,
   "id": "999bf075-8ba4-448f-b9db-9314525aa363",
   "metadata": {},
   "outputs": [],
   "source": [
    "item = (\"Health Kit\", 4)\n",
    "name = item[0]\n",
    "print(name)\n",
    "# item[1] = 10\n",
    "item = (\"Knife\", 1)\n",
    "print(item)\n",
    "\n",
    "print(item.count('Knife'))\n",
    "print(item.index(1))\n",
    "\n",
    "item = (1, 2, 3)\n",
    "\n",
    "print(len(item))\n",
    "print(max(item))\n",
    "print(min(item))"
   ]
  },
  {
   "cell_type": "code",
   "execution_count": null,
   "id": "90cd172e-bd9f-443e-980f-97ad5c0d87b3",
   "metadata": {},
   "outputs": [],
   "source": []
  }
 ],
 "metadata": {
  "kernelspec": {
   "display_name": "Python 3 (ipykernel)",
   "language": "python",
   "name": "python3"
  },
  "language_info": {
   "codemirror_mode": {
    "name": "ipython",
    "version": 3
   },
   "file_extension": ".py",
   "mimetype": "text/x-python",
   "name": "python",
   "nbconvert_exporter": "python",
   "pygments_lexer": "ipython3",
   "version": "3.11.3"
  }
 },
 "nbformat": 4,
 "nbformat_minor": 5
}
